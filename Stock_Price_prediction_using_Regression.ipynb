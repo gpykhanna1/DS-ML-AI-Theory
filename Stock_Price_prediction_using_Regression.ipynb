{
  "nbformat": 4,
  "nbformat_minor": 0,
  "metadata": {
    "colab": {
      "name": "Stock Price prediction using Regression.ipynb",
      "version": "0.3.2",
      "provenance": [],
      "private_outputs": true,
      "collapsed_sections": [],
      "toc_visible": true,
      "include_colab_link": true
    },
    "language_info": {
      "codemirror_mode": {
        "name": "ipython",
        "version": 3
      },
      "file_extension": ".py",
      "mimetype": "text/x-python",
      "name": "python",
      "nbconvert_exporter": "python",
      "pygments_lexer": "ipython3",
      "version": "3.6.0"
    },
    "kernelspec": {
      "name": "python3",
      "display_name": "Python 3"
    }
  },
  "cells": [
    {
      "cell_type": "markdown",
      "metadata": {
        "id": "view-in-github",
        "colab_type": "text"
      },
      "source": [
        "<a href=\"https://colab.research.google.com/github/gpykhanna1/DS-ML-AI-Theory/blob/master/Stock_Price_prediction_using_Regression.ipynb\" target=\"_parent\"><img src=\"https://colab.research.google.com/assets/colab-badge.svg\" alt=\"Open In Colab\"/></a>"
      ]
    },
    {
      "metadata": {
        "id": "N9iamSu-h53W",
        "colab_type": "text"
      },
      "cell_type": "markdown",
      "source": [
        "### Predicting Stock Market Prices using Regression"
      ]
    },
    {
      "metadata": {
        "id": "UlhDBu6ph53q",
        "colab_type": "text"
      },
      "cell_type": "markdown",
      "source": [
        "First let´s import the libraries and the data"
      ]
    },
    {
      "metadata": {
        "id": "skzgfNj2h53r",
        "colab_type": "code",
        "colab": {}
      },
      "cell_type": "code",
      "source": [
        "import matplotlib.pyplot as plt\n",
        "import pandas as pd\n",
        "import pylab as pl\n",
        "import numpy as np"
      ],
      "execution_count": 0,
      "outputs": []
    },
    {
      "metadata": {
        "id": "y32jiJcoihLv",
        "colab_type": "code",
        "colab": {}
      },
      "cell_type": "code",
      "source": [
        "!wget https://raw.githubusercontent.com/egrochos/DevNetCreate2019/master/stock_index_price.csv"
      ],
      "execution_count": 0,
      "outputs": []
    },
    {
      "metadata": {
        "id": "XauZiK_a45Vs",
        "colab_type": "text"
      },
      "cell_type": "markdown",
      "source": [
        "Now that the data is imported, let´s load it into a DataFrame"
      ]
    },
    {
      "metadata": {
        "id": "r5sC1lgMh53u",
        "colab_type": "code",
        "colab": {}
      },
      "cell_type": "code",
      "source": [
        "dataset = pd.read_csv('stock_index_price.csv')\n",
        "print(dataset.shape)\n",
        "dataset.head()"
      ],
      "execution_count": 0,
      "outputs": []
    },
    {
      "metadata": {
        "id": "8_GNAFpR4_l3",
        "colab_type": "text"
      },
      "cell_type": "markdown",
      "source": [
        "###Data Exploration"
      ]
    },
    {
      "metadata": {
        "id": "18xjQqvS5JU9",
        "colab_type": "text"
      },
      "cell_type": "markdown",
      "source": [
        "Let´s see how both \"Interest Rate\" and \"Unemployment Rate\" impact the stock index price (Interest Rate in red, Unemployment Rate in green)"
      ]
    },
    {
      "metadata": {
        "id": "PxPwWegAh53z",
        "colab_type": "code",
        "colab": {}
      },
      "cell_type": "code",
      "source": [
        "plt.scatter(dataset['Interest_Rate'],dataset['Stock_Index_Price'],color='red')\n",
        "plt.title('Stock Index Price vs Interest Rate', fontsize=14)\n",
        "plt.xlabel('Interest Rate', fontsize=14)\n",
        "plt.ylabel('Stock Index Price', fontsize=14)\n",
        "plt.grid(True)\n",
        "plt.show()"
      ],
      "execution_count": 0,
      "outputs": []
    },
    {
      "metadata": {
        "id": "dORk-IfFh533",
        "colab_type": "code",
        "colab": {}
      },
      "cell_type": "code",
      "source": [
        "plt.scatter(dataset['Unemployment_Rate'],dataset['Stock_Index_Price'],color='green')\n",
        "plt.title('Unemployment Rate vs Interest Rate', fontsize=14)\n",
        "plt.xlabel('Unemployment Rate', fontsize=14)\n",
        "plt.ylabel('Stock Index Price', fontsize=14)\n",
        "plt.grid(True)\n",
        "plt.show()"
      ],
      "execution_count": 0,
      "outputs": []
    },
    {
      "metadata": {
        "id": "izh8DO3f6V3V",
        "colab_type": "text"
      },
      "cell_type": "markdown",
      "source": [
        "We can also print a 3 dimension graph, to better visualize how these rates impact the stock price index"
      ]
    },
    {
      "metadata": {
        "id": "Qve9G5jxh54N",
        "colab_type": "code",
        "colab": {}
      },
      "cell_type": "code",
      "source": [
        "from mpl_toolkits import mplot3d\n",
        "from mpl_toolkits.mplot3d import Axes3D\n",
        "fig = plt.figure()\n",
        "ax = fig.add_subplot(111, projection='3d')\n",
        "\n",
        "xs = dataset['Interest_Rate'].values\n",
        "\n",
        "ys = dataset['Unemployment_Rate'].values\n",
        "\n",
        "zs = dataset['Stock_Index_Price'].values\n",
        "\n",
        "ax = plt.axes(projection='3d')\n",
        "ax.set_xlabel('Interest_Rate')\n",
        "ax.set_ylabel('Unemployment_Rate')\n",
        "ax.set_zlabel('Stock_Index_Price')\n",
        "ax.scatter3D(xs, ys, zs, c=zs, cmap='Greens');"
      ],
      "execution_count": 0,
      "outputs": []
    },
    {
      "metadata": {
        "id": "QtWzvp365rq0",
        "colab_type": "text"
      },
      "cell_type": "markdown",
      "source": [
        "###Feature selection"
      ]
    },
    {
      "metadata": {
        "id": "Aj9Fy2-D5ufz",
        "colab_type": "text"
      },
      "cell_type": "markdown",
      "source": [
        "Now, let´s prepare the data we are going to use to train the model. First, we save the values for both interest and unemployment rates to variable \"x\""
      ]
    },
    {
      "metadata": {
        "id": "8zGN8jPJh539",
        "colab_type": "code",
        "colab": {}
      },
      "cell_type": "code",
      "source": [
        "x = dataset.iloc[:, 2:4].values\n",
        "print(x)\n",
        "print(type(x))\n",
        "print(x.shape)"
      ],
      "execution_count": 0,
      "outputs": []
    },
    {
      "metadata": {
        "id": "VtFsZZLuBW37",
        "colab_type": "text"
      },
      "cell_type": "markdown",
      "source": [
        "And we save the label (value we want to predict, in our case, stock price index) to a variable called \"y\""
      ]
    },
    {
      "metadata": {
        "id": "yNLPwTSUh54Y",
        "colab_type": "code",
        "colab": {}
      },
      "cell_type": "code",
      "source": [
        "y = dataset.iloc[:, 4].values\n",
        "print(y)\n",
        "print(type(y))\n",
        "print(y.shape)"
      ],
      "execution_count": 0,
      "outputs": []
    },
    {
      "metadata": {
        "id": "eOETtg5JBfTn",
        "colab_type": "text"
      },
      "cell_type": "markdown",
      "source": [
        "###Train the model"
      ]
    },
    {
      "metadata": {
        "id": "ZKQFSAuQBsT8",
        "colab_type": "text"
      },
      "cell_type": "markdown",
      "source": [
        "Now that our data is ready, let´s use sklearn to train a Linear Regression model"
      ]
    },
    {
      "metadata": {
        "id": "qfEa8vBAh54f",
        "colab_type": "code",
        "colab": {}
      },
      "cell_type": "code",
      "source": [
        "from sklearn.linear_model import LinearRegression\n",
        "lm = LinearRegression()"
      ],
      "execution_count": 0,
      "outputs": []
    },
    {
      "metadata": {
        "id": "3Nsr6-ASh54j",
        "colab_type": "code",
        "colab": {}
      },
      "cell_type": "code",
      "source": [
        "model = lm.fit(x,y)"
      ],
      "execution_count": 0,
      "outputs": []
    },
    {
      "metadata": {
        "id": "2Q1W9leqB4Vf",
        "colab_type": "text"
      },
      "cell_type": "markdown",
      "source": [
        "We can print the values of both the intercept and the coefficients"
      ]
    },
    {
      "metadata": {
        "id": "ggRinIKqh54n",
        "colab_type": "code",
        "colab": {}
      },
      "cell_type": "code",
      "source": [
        "beta = model.coef_\n",
        "print(beta)"
      ],
      "execution_count": 0,
      "outputs": []
    },
    {
      "metadata": {
        "id": "V6OpFBpCh54y",
        "colab_type": "code",
        "colab": {}
      },
      "cell_type": "code",
      "source": [
        "beta_0 = model.intercept_\n",
        "print(beta_0)"
      ],
      "execution_count": 0,
      "outputs": []
    },
    {
      "metadata": {
        "id": "VPgwRZ5WCi6f",
        "colab_type": "text"
      },
      "cell_type": "markdown",
      "source": [
        "###Prediction time"
      ]
    },
    {
      "metadata": {
        "id": "P7GhVlfjCnPr",
        "colab_type": "text"
      },
      "cell_type": "markdown",
      "source": [
        "And finally, now that our model is trained, we can use it to predict the stock price index for two arbitrary interest and unemployment rates"
      ]
    },
    {
      "metadata": {
        "id": "pdyq8zfUh55C",
        "colab_type": "code",
        "colab": {}
      },
      "cell_type": "code",
      "source": [
        "New_Interest_Rate = 2.8\n",
        "New_Unemployment_Rate = 5.3\n",
        "print ('Predicted Stock Index Price: \\n', model.predict([[New_Interest_Rate ,New_Unemployment_Rate]]))"
      ],
      "execution_count": 0,
      "outputs": []
    }
  ]
}